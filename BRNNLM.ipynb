{
 "cells": [
  {
   "cell_type": "markdown",
   "metadata": {},
   "source": [
    "# Bi-directional Recurrent Neural Networks\n"
   ]
  },
  {
   "cell_type": "code",
   "execution_count": 174,
   "metadata": {
    "collapsed": false
   },
   "outputs": [
    {
     "name": "stdout",
     "output_type": "stream",
     "text": [
      "The autoreload extension is already loaded. To reload it, use:\n",
      "  %reload_ext autoreload\n"
     ]
    }
   ],
   "source": [
    "import sys, os\n",
    "from numpy import *\n",
    "from matplotlib.pyplot import *\n",
    "\n",
    "%matplotlib inline\n",
    "matplotlib.rcParams['savefig.dpi'] = 100\n",
    "\n",
    "%load_ext autoreload\n",
    "%autoreload 2"
   ]
  },
  {
   "cell_type": "code",
   "execution_count": 175,
   "metadata": {
    "collapsed": false
   },
   "outputs": [
    {
     "name": "stderr",
     "output_type": "stream",
     "text": [
      "grad_check: dJ/dU error norm = 9.6e-10 [ok]\n",
      "    U dims: [10, 100] = 1000 elem\n",
      "grad_check: dJ/dRH error norm = 4.689e-10 [ok]\n",
      "    RH dims: [50, 50] = 2500 elem\n",
      "grad_check: dJ/dLH error norm = 7.747e-10 [ok]\n",
      "    LH dims: [50, 50] = 2500 elem\n",
      "grad_check: dJ/dRL[3] error norm = 2.484e-10 [ok]\n",
      "    RL[3] dims: [50] = 50 elem\n",
      "grad_check: dJ/dRL[4] error norm = 3.516e-10 [ok]\n",
      "    RL[4] dims: [50] = 50 elem\n",
      "grad_check: dJ/dLL[2] error norm = 3.688e-10 [ok]\n",
      "    LL[2] dims: [50] = 50 elem\n",
      "grad_check: dJ/dLL[1] error norm = 4.436e-10 [ok]\n",
      "    LL[1] dims: [50] = 50 elem\n"
     ]
    }
   ],
   "source": [
    "from brnnlm import BRNNLM\n",
    "# Gradient check on toy data, for speed\n",
    "random.seed(10)\n",
    "wv_dummy = random.randn(10,50)\n",
    "model = BRNNLM(L0 = wv_dummy, U0 = wv_dummy,\n",
    "              alpha=0.005)\n",
    "model.grad_check(array([1,2,3,4]), array([2,3,4]))"
   ]
  },
  {
   "cell_type": "markdown",
   "metadata": {},
   "source": [
    "## Prepare Vocabulary and Load PTB Data\n",
    "\n",
    "We've pre-prepared a list of the vocabulary in the Penn Treebank, along with their absolute counts and unigram frequencies. The document loader code below will \"canonicalize\" words and replace any unknowns with a `\"UUUNKKK\"` token, then convert the data to lists of indices."
   ]
  },
  {
   "cell_type": "code",
   "execution_count": 176,
   "metadata": {
    "collapsed": false
   },
   "outputs": [],
   "source": [
    "import data_utils.ner as ner\n",
    "wvT, word_to_numT, num_to_wordT = ner.load_wv('data/vocabTwitter.txt',\n",
    "                                           'data/wordVectorTwitter.txt')\n",
    "wvW, word_to_numW, num_to_wordW = ner.load_wv('data/vocabWiki.txt',\n",
    "                                              'data/wordVectorWiki.txt')"
   ]
  },
  {
   "cell_type": "code",
   "execution_count": 177,
   "metadata": {
    "collapsed": false
   },
   "outputs": [],
   "source": [
    "def wordvector_neighbors(idxs, wordVecs, num_to_word, n=10):\n",
    "    res_list = []\n",
    "    for idx in idxs:\n",
    "        #print square(wordVecs - wordVecs[idx]).shape\n",
    "        res = argsort(sum(square(wordVecs - wordVecs[idx]), axis=1))[:n+1]\n",
    "        res_list.append([num_to_word[x] for x in res])\n",
    "    return res_list"
   ]
  },
  {
   "cell_type": "code",
   "execution_count": 178,
   "metadata": {
    "collapsed": false
   },
   "outputs": [
    {
     "name": "stdout",
     "output_type": "stream",
     "text": [
      "[['obama', 'romney', 'barack', 'president', 'clinton', 'hillary', 'potus', 'biden', 'says', 'bill', 'bush']]\n",
      "[['obama', 'barack', 'bush', 'clinton', 'mccain', 'dole', 'gore', 'hillary', 'rodham', 'kerry', 'biden']]\n"
     ]
    }
   ],
   "source": [
    "print wordvector_neighbors([word_to_numT['obama']], wvT, num_to_wordT)\n",
    "print wordvector_neighbors([word_to_numW['obama']], wvW, num_to_wordW)"
   ]
  },
  {
   "cell_type": "code",
   "execution_count": 180,
   "metadata": {
    "collapsed": false
   },
   "outputs": [
    {
     "name": "stdout",
     "output_type": "stream",
     "text": [
      "Retained 7861 words from 38444 (91.76% of all tokens)\n"
     ]
    }
   ],
   "source": [
    "from data_utils import utils as du\n",
    "import pandas as pd\n",
    "\n",
    "# Load the vocabulary\n",
    "vocab = pd.read_table(\"data/lm/vocab.ptb.txt\", header=None, sep=\"\\s+\",\n",
    "                     index_col=0, names=['count', 'freq'], )\n",
    "\n",
    "# Choose how many top words to keep\n",
    "vocabsize = 8000\n",
    "        \n",
    "words = list(set(vocab.index[:vocabsize]).intersection(set(word_to_numW.keys())))\n",
    "words.append('UUUNKKK')\n",
    "words.append('<s>')\n",
    "words.append('</s>')\n",
    "vocabsize = len(words)\n",
    "num_to_word = dict(enumerate(words))\n",
    "word_to_num = du.invert_dict(num_to_word)\n",
    "##\n",
    "# Below needed for 'adj_loss': DO NOT CHANGE\n",
    "fraction_lost = float(sum([vocab['count'][word] for word in vocab.index\n",
    "                           if (not word in word_to_num) \n",
    "                               and (not word == \"UUUNKKK\")]))\n",
    "fraction_lost /= sum([vocab['count'][word] for word in vocab.index\n",
    "                      if (not word == \"UUUNKKK\")])\n",
    "print \"Retained %d words from %d (%.02f%% of all tokens)\" % (vocabsize, len(vocab),\n",
    "                                                             100*(1-fraction_lost))"
   ]
  },
  {
   "cell_type": "markdown",
   "metadata": {},
   "source": [
    "Load the datasets, using the vocabulary in `word_to_num`. Our starter code handles this for you, and also generates lists of lists X and Y, corresponding to input words and target words*. \n",
    "\n",
    "*(Of course, the target words are just the input words, shifted by one position, but it can be cleaner and less error-prone to keep them separate.)*"
   ]
  },
  {
   "cell_type": "code",
   "execution_count": 181,
   "metadata": {
    "collapsed": false
   },
   "outputs": [
    {
     "name": "stdout",
     "output_type": "stream",
     "text": [
      "Big investment banks refused to step up to the plate to support the beleaguered floor traders by buying big blocks of stock , traders say .\n"
     ]
    }
   ],
   "source": [
    "# Load the training set\n",
    "docs = du.load_dataset('data/lm/ptb-train.txt')\n",
    "S_train = du.docs_to_indices(docs, word_to_num)\n",
    "X_train, Y_train = du.seqs_to_lmXY(S_train)\n",
    "\n",
    "# Load the dev set (for tuning hyperparameters)\n",
    "docs = du.load_dataset('data/lm/ptb-dev.txt')\n",
    "S_dev = du.docs_to_indices(docs, word_to_num)\n",
    "X_dev, Y_dev = du.seqs_to_lmXY(S_dev)\n",
    "\n",
    "# Load the test set (final evaluation only)\n",
    "docs = du.load_dataset('data/lm/ptb-test.txt')\n",
    "S_test = du.docs_to_indices(docs, word_to_num)\n",
    "X_test, Y_test = du.seqs_to_lmXY(S_test)\n",
    "\n",
    "# Display some sample data\n",
    "print \" \".join(d[0] for d in docs[7])"
   ]
  },
  {
   "cell_type": "code",
   "execution_count": 182,
   "metadata": {
    "collapsed": false
   },
   "outputs": [
    {
     "name": "stdout",
     "output_type": "stream",
     "text": [
      "['<s>', 'we', \"'re\", 'talking', 'about', 'years', 'ago', 'before', 'anyone', 'heard', 'of', 'asbestos', 'having', 'any', 'questionable', 'properties', '.']\n",
      "['we', \"'re\", 'talking', 'about', 'years', 'ago', 'before', 'anyone', 'heard', 'of', 'asbestos', 'having', 'any', 'questionable', 'properties', '.', '</s>']\n"
     ]
    }
   ],
   "source": [
    "print [num_to_word[x] for x in X_train[10]]\n",
    "print [num_to_word[y] for y in Y_train[10]]"
   ]
  },
  {
   "cell_type": "markdown",
   "metadata": {},
   "source": [
    "## Train and evaluate your model\n",
    "\n",
    "When you're able to pass the gradient check, let's run our model on some real language!\n",
    "\n",
    "You should randomly initialize the word vectors as Gaussian noise, i.e. $W_{ij} \\sim \\mathit{N}(0,0.1)$; the function `random.randn` may be helpful here."
   ]
  },
  {
   "cell_type": "code",
   "execution_count": 9,
   "metadata": {
    "collapsed": false,
    "scrolled": false
   },
   "outputs": [],
   "source": [
    "random.seed(10)\n",
    "hdim = 50 # dimension of hidden layer = dimension of word vectors\n",
    "L0 = zeros((vocabsize, hdim))\n",
    "for i in xrange(vocabsize-3):\n",
    "    L0[i] = wvW[word_to_numW[num_to_word[i]]]\n",
    "L0[-3] = random.randn(hdim) * sqrt(0.1) # UUUNKKK\n",
    "L0[-2] = random.randn(hdim) * sqrt(0.1) # <s>\n",
    "L0[-1] = random.randn(hdim) * sqrt(0.1) # </s>"
   ]
  },
  {
   "cell_type": "code",
   "execution_count": 10,
   "metadata": {
    "collapsed": false,
    "scrolled": true
   },
   "outputs": [],
   "source": [
    "#### YOUR CODE HERE ####\n",
    "\n",
    "##\n",
    "# Pare down to a smaller dataset, for speed (optional)\n",
    "ntrain = len(Y_train)\n",
    "X = X_train[:ntrain]\n",
    "Y = Y_train[:ntrain]\n",
    "S = S_train[:ntrain]\n",
    "\n",
    "def randomSchedule(n):\n",
    "    i = 0\n",
    "    while i < n:\n",
    "        i += 1\n",
    "        yield random.randint(0, len(Y))\n",
    "        \n",
    "def randomMinibatchSchedule(n, k):\n",
    "    i = 0\n",
    "    while i < n / k:\n",
    "        i += 1\n",
    "        yield [random.randint(0, len(Y)) for _ in xrange(k)]\n",
    "        \n",
    "def annealingAlpha(n, alpha, tau):\n",
    "    for i in xrange(n):\n",
    "        yield alpha * tau / max(i, tau) \n",
    "\n",
    "\n",
    "#### END YOUR CODE ####"
   ]
  },
  {
   "cell_type": "code",
   "execution_count": 11,
   "metadata": {
    "collapsed": false
   },
   "outputs": [
    {
     "name": "stdout",
     "output_type": "stream",
     "text": [
      "56522\n"
     ]
    }
   ],
   "source": [
    "print ntrain"
   ]
  },
  {
   "cell_type": "code",
   "execution_count": 42,
   "metadata": {
    "collapsed": false,
    "scrolled": true
   },
   "outputs": [
    {
     "name": "stdout",
     "output_type": "stream",
     "text": [
      "Begin SGD...\n",
      "  Seen 0 in 0.00 s\n",
      "  [0]: mean loss 9.85084\n",
      "  [2000]: mean loss 5.62363\n",
      "  [4000]: mean loss 5.44422\n",
      "  [6000]: mean loss 5.35979\n",
      "  [8000]: mean loss 5.45166\n",
      "  Seen 10000 in 4901.68 s\n",
      "  [10000]: mean loss 5.26666\n",
      "  [12000]: mean loss 5.21326\n",
      "  [14000]: mean loss 5.23927\n",
      "  [16000]: mean loss 5.24895\n",
      "  [18000]: mean loss 5.12286\n",
      "  Seen 20000 in 9606.30 s\n",
      "  [20000]: mean loss 5.16385\n",
      "  [22000]: mean loss 5.08791\n",
      "  [24000]: mean loss 5.10743\n",
      "  [26000]: mean loss 5.09146\n",
      "  [28000]: mean loss 5.06347\n",
      "  Seen 30000 in 14313.09 s\n",
      "  [30000]: mean loss 5.13498\n",
      "  [32000]: mean loss 5.00622\n",
      "  [34000]: mean loss 5.01644\n",
      "  [36000]: mean loss 4.99323\n",
      "  [38000]: mean loss 5.00177\n",
      "  [40000]: mean loss 5.02402\n",
      "SGD complete: 40000 examples in 19845.38 seconds.\n"
     ]
    },
    {
     "data": {
      "text/plain": [
       "[(0, 9.8508386909235757),\n",
       " (2000, 5.6236279208727389),\n",
       " (4000, 5.4442216623425219),\n",
       " (6000, 5.3597933901338584),\n",
       " (8000, 5.4516570695163953),\n",
       " (10000, 5.2666633991930523),\n",
       " (12000, 5.2132622515440685),\n",
       " (14000, 5.2392709906749495),\n",
       " (16000, 5.248954177129594),\n",
       " (18000, 5.1228569123401702),\n",
       " (20000, 5.1638487274959477),\n",
       " (22000, 5.0879067970156058),\n",
       " (24000, 5.1074259545429213),\n",
       " (26000, 5.0914607249647537),\n",
       " (28000, 5.0634699288345901),\n",
       " (30000, 5.134978915883905),\n",
       " (32000, 5.0062231888372137),\n",
       " (34000, 5.0164439650648598),\n",
       " (36000, 4.9932292603385955),\n",
       " (38000, 5.0017743556265231),\n",
       " (40000, 5.0240160779608969)]"
      ]
     },
     "execution_count": 42,
     "metadata": {},
     "output_type": "execute_result"
    }
   ],
   "source": [
    "## Evaluate cross-entropy loss on the dev set,\n",
    "## then convert to perplexity for your writeup\n",
    "\n",
    "#n = ntrain\n",
    "n = 40000\n",
    "k = 5\n",
    "model = BRNNLM(L0, U0 = L0, alpha=0.1)\n",
    "# train on S not X, Y is ignored\n",
    "model.train_sgd(X=S, y=Y, idxiter=randomSchedule(n),costevery=2000)"
   ]
  },
  {
   "cell_type": "code",
   "execution_count": 59,
   "metadata": {
    "collapsed": false
   },
   "outputs": [
    {
     "name": "stdout",
     "output_type": "stream",
     "text": [
      "5.03987517448\n"
     ]
    }
   ],
   "source": [
    "# compute loss on S not X, Y is ignored\n",
    "dev_loss = model.compute_mean_loss(S_dev, Y_dev)\n",
    "print dev_loss"
   ]
  },
  {
   "cell_type": "markdown",
   "metadata": {},
   "source": [
    "### Save Model Parameters"
   ]
  },
  {
   "cell_type": "code",
   "execution_count": 12,
   "metadata": {
    "collapsed": false
   },
   "outputs": [
    {
     "ename": "TypeError",
     "evalue": "save_parameters() takes exactly 1 argument (2 given)",
     "output_type": "error",
     "traceback": [
      "\u001b[0;31m---------------------------------------------------------------------------\u001b[0m",
      "\u001b[0;31mTypeError\u001b[0m                                 Traceback (most recent call last)",
      "\u001b[0;32m<ipython-input-12-316cdbfbaad3>\u001b[0m in \u001b[0;36m<module>\u001b[0;34m()\u001b[0m\n\u001b[0;32m----> 1\u001b[0;31m \u001b[0mmodel\u001b[0m\u001b[0;34m.\u001b[0m\u001b[0msave_parameters\u001b[0m\u001b[0;34m(\u001b[0m\u001b[0;34m'hdim_50_vdim_7861_alpha_01'\u001b[0m\u001b[0;34m)\u001b[0m\u001b[0;34m\u001b[0m\u001b[0m\n\u001b[0m",
      "\u001b[0;31mTypeError\u001b[0m: save_parameters() takes exactly 1 argument (2 given)"
     ]
    }
   ],
   "source": [
    "model.load_parameters()"
   ]
  },
  {
   "cell_type": "markdown",
   "metadata": {},
   "source": [
    "The performance of the model is skewed somewhat by the large number of `UUUNKKK` tokens; if these are 1/6 of the dataset, then that's a sizeable fraction that we're just waving our hands at. Naively, our model gets credit for these that's not really deserved; the formula below roughly removes this contribution from the average loss. Don't worry about how it's derived, but do report both scores - it helps us compare across models with different vocabulary sizes."
   ]
  },
  {
   "cell_type": "code",
   "execution_count": 58,
   "metadata": {
    "collapsed": false
   },
   "outputs": [
    {
     "ename": "NameError",
     "evalue": "name 'dev_loss' is not defined",
     "output_type": "error",
     "traceback": [
      "\u001b[0;31m---------------------------------------------------------------------------\u001b[0m",
      "\u001b[0;31mNameError\u001b[0m                                 Traceback (most recent call last)",
      "\u001b[0;32m<ipython-input-58-224e35732db0>\u001b[0m in \u001b[0;36m<module>\u001b[0;34m()\u001b[0m\n\u001b[1;32m      3\u001b[0m \u001b[0;32mdef\u001b[0m \u001b[0madjust_loss\u001b[0m\u001b[0;34m(\u001b[0m\u001b[0mloss\u001b[0m\u001b[0;34m,\u001b[0m \u001b[0mfunk\u001b[0m\u001b[0;34m)\u001b[0m\u001b[0;34m:\u001b[0m\u001b[0;34m\u001b[0m\u001b[0m\n\u001b[1;32m      4\u001b[0m     \u001b[0;32mreturn\u001b[0m \u001b[0;34m(\u001b[0m\u001b[0mloss\u001b[0m \u001b[0;34m+\u001b[0m \u001b[0mfunk\u001b[0m \u001b[0;34m*\u001b[0m \u001b[0mlog\u001b[0m\u001b[0;34m(\u001b[0m\u001b[0mfunk\u001b[0m\u001b[0;34m)\u001b[0m\u001b[0;34m)\u001b[0m\u001b[0;34m/\u001b[0m\u001b[0;34m(\u001b[0m\u001b[0;36m1\u001b[0m \u001b[0;34m-\u001b[0m \u001b[0mfunk\u001b[0m\u001b[0;34m)\u001b[0m\u001b[0;34m\u001b[0m\u001b[0m\n\u001b[0;32m----> 5\u001b[0;31m \u001b[0;32mprint\u001b[0m \u001b[0;34m\"Unadjusted: %.03f\"\u001b[0m \u001b[0;34m%\u001b[0m \u001b[0mexp\u001b[0m\u001b[0;34m(\u001b[0m\u001b[0mdev_loss\u001b[0m\u001b[0;34m)\u001b[0m\u001b[0;34m\u001b[0m\u001b[0m\n\u001b[0m\u001b[1;32m      6\u001b[0m \u001b[0;32mprint\u001b[0m \u001b[0;34m\"Adjusted for missing vocab: %.03f\"\u001b[0m \u001b[0;34m%\u001b[0m \u001b[0mexp\u001b[0m\u001b[0;34m(\u001b[0m\u001b[0madjust_loss\u001b[0m\u001b[0;34m(\u001b[0m\u001b[0mdev_loss\u001b[0m\u001b[0;34m,\u001b[0m \u001b[0mfraction_lost\u001b[0m\u001b[0;34m)\u001b[0m\u001b[0;34m)\u001b[0m\u001b[0;34m\u001b[0m\u001b[0m\n",
      "\u001b[0;31mNameError\u001b[0m: name 'dev_loss' is not defined"
     ]
    }
   ],
   "source": [
    "## DO NOT CHANGE THIS CELL ##\n",
    "# Report your numbers, after computing dev_loss above.\n",
    "def adjust_loss(loss, funk):\n",
    "    return (loss + funk * log(funk))/(1 - funk)\n",
    "print \"Unadjusted: %.03f\" % exp(dev_loss)\n",
    "print \"Adjusted for missing vocab: %.03f\" % exp(adjust_loss(dev_loss, fraction_lost))"
   ]
  },
  {
   "cell_type": "markdown",
   "metadata": {},
   "source": [
    "## Generating Data\n",
    "\n",
    "Once you've trained your model to satisfaction, let's use it to generate some sentences!\n",
    "\n",
    "Implement the `generate_sequence` function in `rnnlm.py`, and call it below."
   ]
  },
  {
   "cell_type": "markdown",
   "metadata": {},
   "source": [
    "##Model 1"
   ]
  },
  {
   "cell_type": "code",
   "execution_count": 185,
   "metadata": {
    "collapsed": false
   },
   "outputs": [],
   "source": [
    "model = BRNNLM(L0, alpha=0.1)\n",
    "model.load_parameters('hdim_50_vdim_7861_alpha_01')"
   ]
  },
  {
   "cell_type": "code",
   "execution_count": 186,
   "metadata": {
    "collapsed": false
   },
   "outputs": [],
   "source": [
    "wv_all = zeros((wvW.shape[0]+3, wvW.shape[1]))\n",
    "wv_all[range(L0.shape[0])] = L0\n",
    "num_to_word_all = dict()\n",
    "for k, v in num_to_word.items():\n",
    "    num_to_word_all[k] = v\n",
    "i = L0.shape[0]\n",
    "for k, v in word_to_numW.items():\n",
    "    if k not in words:\n",
    "        wv_all[i] = wvW[v]\n",
    "        num_to_word_all[i] = k\n",
    "        i += 1\n",
    "word_to_num_all = du.invert_dict(num_to_word_all)\n",
    "   \n",
    "\n"
   ]
  },
  {
   "cell_type": "code",
   "execution_count": 187,
   "metadata": {
    "collapsed": false
   },
   "outputs": [
    {
     "name": "stdout",
     "output_type": "stream",
     "text": [
      "400003\n"
     ]
    }
   ],
   "source": [
    "print len(word_to_num_all)"
   ]
  },
  {
   "cell_type": "code",
   "execution_count": 188,
   "metadata": {
    "collapsed": false
   },
   "outputs": [],
   "source": [
    "def seq_to_words(seq, num_to_word):\n",
    "    return [num_to_word[s] for s in seq]\n",
    "\n",
    "def break_str(st, word_to_num):\n",
    "    st_l = []\n",
    "    for x in st.split():\n",
    "        x = word_to_num[du.canonicalize_word(x, word_to_num.keys())]\n",
    "        st_l.append(x)\n",
    "    return st_l"
   ]
  },
  {
   "cell_type": "code",
   "execution_count": 215,
   "metadata": {
    "collapsed": true
   },
   "outputs": [],
   "source": [
    "def fill_all_missing(model, arg1, relations, arg2, ln, rn, word_to_num, num_to_word, wv):\n",
    "    k = 10\n",
    "    arg1 = [word_to_num['<s>']] + break_str(arg1, word_to_num)\n",
    "    arg2 = break_str(arg2, word_to_num) + [word_to_num['.'], word_to_num['</s>']]\n",
    "    seqs = []\n",
    "    for relation in relations:\n",
    "        relation = break_str(relation, word_to_num)\n",
    "        # first fill left\n",
    "        l_missings = model.generate_missing_multiple(arg1, relation + arg2, ln, wv, k)\n",
    "        #print [([num_to_word[y] for y in x], loss) for x,loss in l_missings[:20]]\n",
    "        l_missings = l_missings[:k]\n",
    "        for l_missing,_ in l_missings:\n",
    "            # then fill right\n",
    "            r_missings = model.generate_missing_multiple(arg1 + list(l_missing) + relation, arg2, rn, wv, k)[:k]\n",
    "            for r_missing, loss in r_missings:\n",
    "                seqs.append((arg1 + list(l_missing) + relation + list(r_missing) + arg2, loss))\n",
    "    seqs = sorted(seqs, key=lambda x:x[1])\n",
    "    for i in xrange(len(seqs)):\n",
    "        print \" \".join(seq_to_words(seqs[i][0], num_to_word)), seqs[i][1] \n",
    "    return seqs"
   ]
  },
  {
   "cell_type": "code",
   "execution_count": 198,
   "metadata": {
    "collapsed": false
   },
   "outputs": [],
   "source": [
    "def fill_middle_missing(model, before, after, n, word_to_num, num_to_word, wv):\n",
    "    before_l = []\n",
    "    for x in before.split():\n",
    "        if x in word_to_num:\n",
    "            before_l.append(word_to_num[x])\n",
    "        else:\n",
    "            before_l.append(word_to_num['UUUNKKK'])\n",
    "    after_l = []\n",
    "    for x in after.split():\n",
    "        if x in word_to_num:\n",
    "            after_l.append(word_to_num[x])\n",
    "        else:\n",
    "            after_l.append(word_to_num['UUUNKKK'])\n",
    "    seqs = model.generate_missing_seq(before_l, after_l, n, wv, nres=10)\n",
    "    for i in xrange(len(seqs)):\n",
    "        print \" \".join(seq_to_words(seqs[i][0], num_to_word)), seqs[i][1]   "
   ]
  },
  {
   "cell_type": "code",
   "execution_count": 144,
   "metadata": {
    "collapsed": false
   },
   "outputs": [
    {
     "name": "stdout",
     "output_type": "stream",
     "text": [
      "10\n",
      "<s> he is board member eligible google . </s> 1.08677725393\n",
      "<s> he is board member yellow google . </s> 1.19912798148\n",
      "<s> he is board member del. google . </s> 1.9966108979\n",
      "<s> he is board member lord google . </s> 2.38513189275\n",
      "<s> he is board member woods google . </s> 2.9653172539\n",
      "<s> he is board member electricity google . </s> 3.37483192138\n",
      "<s> he is board member looking google . </s> 4.27188708251\n",
      "<s> he is board member four google . </s> 4.2800082285\n",
      "<s> he is board member mirage google . </s> 4.30820036877\n",
      "<s> he is board member refunding google . </s> 5.05993353938\n"
     ]
    }
   ],
   "source": [
    "fill_middle_missing(model, \"<s> he is board member \", \" google  . </s>\", 1, word_to_num_all, num_to_word_all, wv_all)"
   ]
  },
  {
   "cell_type": "markdown",
   "metadata": {},
   "source": [
    "##Model 2"
   ]
  },
  {
   "cell_type": "code",
   "execution_count": 190,
   "metadata": {
    "collapsed": false
   },
   "outputs": [],
   "source": [
    "model_2 = BRNNLM(zeros((8000,100)))\n",
    "model_2.load_parameters('hdim_100_vdim_8000_alpha_01')\n",
    "num_to_word_2 = dict(enumerate(vocab.index[:8000]))\n",
    "word_to_num_2 = du.invert_dict(num_to_word_2)"
   ]
  },
  {
   "cell_type": "code",
   "execution_count": 191,
   "metadata": {
    "collapsed": false
   },
   "outputs": [
    {
     "name": "stdout",
     "output_type": "stream",
     "text": [
      "True\n",
      "3\n"
     ]
    }
   ],
   "source": [
    "print 'DGDG' in word_to_num_2\n",
    "print word_to_num_2['UUUNKKK']"
   ]
  },
  {
   "cell_type": "code",
   "execution_count": 199,
   "metadata": {
    "collapsed": false
   },
   "outputs": [
    {
     "name": "stdout",
     "output_type": "stream",
     "text": [
      "10\n",
      "<s> mike 's sex UUUNKKK male . </s> 36.3311222003\n",
      "<s> mike 's sex and male . </s> 38.2982990656\n",
      "<s> mike 's sex trading male . </s> 38.5440032319\n",
      "<s> mike 's sex , male . </s> 38.6791087853\n",
      "<s> mike 's sex market male . </s> 38.8292844798\n",
      "<s> mike 's sex is male . </s> 38.9581396348\n",
      "<s> mike 's sex were male . </s> 39.0348792584\n",
      "<s> mike 's sex 's male . </s> 39.2252363724\n",
      "<s> mike 's sex of male . </s> 40.2067953462\n",
      "<s> mike 's sex to male . </s> 40.3826557568\n"
     ]
    }
   ],
   "source": [
    "fill_missing(model_2, \"<s> mike 's sex\", \" male  . </s>\", 1, word_to_num_2, num_to_word_2, None)"
   ]
  },
  {
   "cell_type": "code",
   "execution_count": 219,
   "metadata": {
    "collapsed": false
   },
   "outputs": [
    {
     "name": "stdout",
     "output_type": "stream",
     "text": [
      "<s> mike a big board member of china . </s> 2.91367675336\n",
      "<s> mike UUUNKKK a member of china . </s> 2.99800406396\n",
      "<s> mike 's big board member of china . </s> 3.05746428863\n",
      "<s> mike the big board member of china . </s> 3.05999587453\n",
      "<s> mike an big board member of china . </s> 3.06569615678\n",
      "<s> mike , a member of china . </s> 3.07849822462\n",
      "<s> mike : a member of china . </s> 3.28823292675\n",
      "<s> mike will be member of china . </s> 3.3009778277\n",
      "<s> mike a big board member in china . </s> 3.30166948928\n",
      "<s> mike 's big board member to china . </s> 3.31092694462\n",
      "<s> mike a big board member to china . </s> 3.33028121748\n",
      "<s> mike 's big board member in china . </s> 3.34637006963\n",
      "<s> mike 's big board member by china . </s> 3.35395727484\n",
      "<s> mike 's big board member for china . </s> 3.35532026058\n",
      "<s> mike a big board member by china . </s> 3.35863194961\n",
      "<s> mike a big board member for china . </s> 3.35887618947\n",
      "<s> mike the big board member in china . </s> 3.36367740837\n",
      "<s> mike the big board member by china . </s> 3.37652252515\n",
      "<s> mike 's big board member that china . </s> 3.3774214314\n",
      "<s> mike , an member of china . </s> 3.38046494706\n",
      "<s> mike a big board member at china . </s> 3.38212792784\n",
      "<s> mike the big board member to china . </s> 3.38475899332\n",
      "<s> mike its big board member of china . </s> 3.38792887901\n",
      "<s> mike the big board member for china . </s> 3.3944234017\n",
      "<s> mike a big board member on china . </s> 3.40014203543\n",
      "<s> mike 's first member of china . </s> 3.41383967956\n",
      "<s> mike will be member to china . </s> 3.42924611619\n",
      "<s> mike 's big board member at china . </s> 3.43601595456\n",
      "<s> mike their big board member of china . </s> 3.44081626913\n",
      "<s> mike an big board member in china . </s> 3.44368000452\n",
      "<s> mike the big board member that china . </s> 3.45879846106\n",
      "<s> mike an big board member to china . </s> 3.46142786215\n",
      "<s> mike an big board member by china . </s> 3.48298330726\n",
      "<s> mike an big board member for china . </s> 3.49073890069\n",
      "<s> mike his big board member of china . </s> 3.50357505986\n",
      "<s> mike , the board member of china . </s> 3.51568029101\n",
      "<s> mike will be member by china . </s> 3.51999753313\n",
      "<s> mike a few member of china . </s> 3.52182946487\n",
      "<s> mike a big board member and china . </s> 3.52344333366\n",
      "<s> mike a big board member , china . </s> 3.54752874348\n",
      "<s> mike the big board member is china . </s> 3.57479348741\n",
      "<s> mike will be member in china . </s> 3.57891703289\n",
      "<s> mike an big board member at china . </s> 3.58490828804\n",
      "<s> mike the big board member , china . </s> 3.59156660533\n",
      "<s> mike 's big board member UUUNKKK china . </s> 3.59678402557\n",
      "<s> mike , a member for china . </s> 3.60444179814\n",
      "<s> mike will be member for china . </s> 3.60523427888\n",
      "<s> mike , a member in china . </s> 3.60835358556\n",
      "<s> mike will be member on china . </s> 3.613615958\n",
      "<s> mike 's big board member is china . </s> 3.61748342336\n",
      "<s> mike UUUNKKK a member in china . </s> 3.61836176641\n",
      "<s> mike UUUNKKK a member to china . </s> 3.6256682925\n",
      "<s> mike and the board member of china . </s> 3.63578903237\n",
      "<s> mike UUUNKKK a member for china . </s> 3.66048375613\n",
      "<s> mike the big board member UUUNKKK china . </s> 3.66052103897\n",
      "<s> mike will be member from china . </s> 3.6667779896\n",
      "<s> mike a big board member UUUNKKK china . </s> 3.66964931336\n",
      "<s> mike their big board member to china . </s> 3.67211284765\n",
      "<s> mike its big board member to china . </s> 3.68060449357\n",
      "<s> mike , a member to china . </s> 3.69136826338\n",
      "<s> mike the big board member was china . </s> 3.69308988677\n",
      "<s> mike will be member at china . </s> 3.70815473633\n",
      "<s> mike an big board member is china . </s> 3.70853373686\n",
      "<s> mike its big board member by china . </s> 3.71466962321\n",
      "<s> mike its big board member in china . </s> 3.71511730839\n",
      "<s> mike will be member with china . </s> 3.72196619981\n",
      "<s> mike 's first member in china . </s> 3.72281231123\n",
      "<s> mike their big board member by china . </s> 3.72754463459\n",
      "<s> mike is n't member to china . </s> 3.72935058673\n",
      "<s> mike an big board member , china . </s> 3.73574904031\n",
      "<s> mike its big board member for china . </s> 3.74028625021\n",
      "<s> mike 's first member and china . </s> 3.74122667634\n",
      "<s> mike his big board member to china . </s> 3.74144449934\n",
      "<s> mike 's first member , china . </s> 3.75047033782\n",
      "<s> mike their big board member in china . </s> 3.75851543859\n",
      "<s> mike is n't member of china . </s> 3.76503031181\n",
      "<s> mike , a member , china . </s> 3.77154876119\n",
      "<s> mike 's big board member the china . </s> 3.7788369732\n",
      "<s> mike an big board member UUUNKKK china . </s> 3.78010014698\n",
      "<s> mike their big board member for china . </s> 3.78239979752\n",
      "<s> mike 's first member for china . </s> 3.78929986021\n",
      "<s> mike an big board member was china . </s> 3.79531703782\n",
      "<s> mike , a member on china . </s> 3.79806613712\n",
      "<s> mike its big board member that china . </s> 3.79860717449\n",
      "<s> mike , the board member to china . </s> 3.80352609135\n",
      "<s> mike its big board member at china . </s> 3.80353648456\n",
      "<s> mike his big board member by china . </s> 3.81435785037\n",
      "<s> mike their big board member that china . </s> 3.81591085785\n",
      "<s> mike his big board member in china . </s> 3.82245160471\n",
      "<s> mike 's first member on china . </s> 3.82626749812\n",
      "<s> mike , which member of china . </s> 3.82651847833\n",
      "<s> mike UUUNKKK a member on china . </s> 3.82823878376\n",
      "<s> mike , which member in china . </s> 3.82990130428\n",
      "<s> mike , which member that china . </s> 3.83088944547\n",
      "<s> mike their big board member at china . </s> 3.83869589688\n",
      "<s> mike 's first member to china . </s> 3.84031969101\n",
      "<s> mike a few member in china . </s> 3.84380058237\n",
      "<s> mike his big board member for china . </s> 3.84479576859\n",
      "<s> mike , the board member in china . </s> 3.84530522789\n",
      "<s> mike , an member in china . </s> 3.84662870582\n",
      "<s> mike is n't member that china . </s> 3.84809620984\n",
      "<s> mike , a member at china . </s> 3.85055356673\n",
      "<s> mike , an member at china . </s> 3.85842832738\n",
      "<s> mike is n't member in china . </s> 3.85887362905\n",
      "<s> mike , a member UUUNKKK china . </s> 3.86519898987\n",
      "<s> mike : a member for china . </s> 3.86588145953\n",
      "<s> mike UUUNKKK a member , china . </s> 3.86696989182\n",
      "<s> mike , an member for china . </s> 3.8688025112\n",
      "<s> mike will be member as china . </s> 3.8701025932\n",
      "<s> mike : a member in china . </s> 3.87111115036\n",
      "<s> mike , an member to china . </s> 3.8766282988\n",
      "<s> mike a few member to china . </s> 3.8797803089\n",
      "<s> mike , the board member for china . </s> 3.88369653191\n",
      "<s> mike a few member on china . </s> 3.89766720448\n",
      "<s> mike : a member to china . </s> 3.8979665366\n",
      "<s> mike his big board member at china . </s> 3.89835687261\n",
      "<s> mike his big board member that china . </s> 3.90480431124\n",
      "<s> mike , the board member that china . </s> 3.90989711037\n",
      "<s> mike their big board member as china . </s> 3.91252603251\n",
      "<s> mike is n't member by china . </s> 3.9137285872\n",
      "<s> mike , the board member by china . </s> 3.91882523861\n",
      "<s> mike is n't member for china . </s> 3.92116406338\n",
      "<s> mike , a member by china . </s> 3.92576415195\n",
      "<s> mike , the board member at china . </s> 3.92791908486\n",
      "<s> mike its big board member , china . </s> 3.92995072303\n",
      "<s> mike , which member at china . </s> 3.93323968448\n",
      "<s> mike is n't member from china . </s> 3.93373667624\n",
      "<s> mike , a member and china . </s> 3.936074458\n",
      "<s> mike UUUNKKK a member and china . </s> 3.93669936199\n",
      "<s> mike , which member to china . </s> 3.94321327214\n",
      "<s> mike , which member for china . </s> 3.94962279921\n",
      "<s> mike , an member with china . </s> 3.94963336971\n",
      "<s> mike is n't member on china . </s> 3.95220681333\n",
      "<s> mike , which member on china . </s> 3.96106261431\n",
      "<s> mike , the board member is china . </s> 3.96249092154\n",
      "<s> mike a few member after china . </s> 3.96440941397\n",
      "<s> mike UUUNKKK a member at china . </s> 3.96627967358\n",
      "<s> mike their big board member , china . </s> 3.97619330532\n",
      "<s> mike 's first member by china . </s> 3.98048422316\n",
      "<s> mike a few member for china . </s> 3.98121858556\n",
      "<s> mike and the board member to china . </s> 3.99221771195\n",
      "<s> mike , who member that china . </s> 3.99626965333\n",
      "<s> mike its big board member UUUNKKK china . </s> 4.00105610013\n",
      "<s> mike , an member by china . </s> 4.01382132885\n",
      "<s> mike and the board member in china . </s> 4.01728419732\n",
      "<s> mike his big board member , china . </s> 4.01751838956\n",
      "<s> mike a few member and china . </s> 4.01812930365\n",
      "<s> mike : a member on china . </s> 4.01929593127\n",
      "<s> mike a few member from china . </s> 4.0204743651\n",
      "<s> mike , which member the china . </s> 4.03401416915\n",
      "<s> mike their big board member UUUNKKK china . </s> 4.03630676438\n",
      "<s> mike , an member on china . </s> 4.04035081935\n",
      "<s> mike a few member , china . </s> 4.04198559992\n",
      "<s> mike , which member UUUNKKK china . </s> 4.04924184863\n",
      "<s> mike UUUNKKK a member by china . </s> 4.05131114541\n",
      "<s> mike , which member by china . </s> 4.05318873504\n",
      "<s> mike UUUNKKK a member UUUNKKK china . </s> 4.05511562939\n",
      "<s> mike , an member UUUNKKK china . </s> 4.06299470823\n",
      "<s> mike , the board member UUUNKKK china . </s> 4.06765803242\n",
      "<s> mike 's first member 's china . </s> 4.06843222798\n",
      "<s> mike : a member , china . </s> 4.06875676897\n",
      "<s> mike , who member in china . </s> 4.06895544687\n",
      "<s> mike and the board member for china . </s> 4.07284579972\n",
      "<s> mike , who member of china . </s> 4.07948244672\n",
      "<s> mike , big board member of china . </s> 4.08189168166\n",
      "<s> mike and the board member by china . </s> 4.08336122495\n",
      "<s> mike 's first member UUUNKKK china . </s> 4.08413166241\n",
      "<s> mike , who member to china . </s> 4.09145053524\n",
      "<s> mike , big board member to china . </s> 4.0955583218\n",
      "<s> mike his big board member UUUNKKK china . </s> 4.10749483009\n",
      "<s> mike and the board member on china . </s> 4.11096166828\n",
      "<s> mike and the board member that china . </s> 4.12170137884\n",
      "<s> mike : a member after china . </s> 4.12532192431\n",
      "<s> mike , who member the china . </s> 4.14956535725\n",
      "<s> mike : a member from china . </s> 4.16917331303\n",
      "<s> mike , big board member at china . </s> 4.19125564516\n",
      "<s> mike is n't member UUUNKKK china . </s> 4.20368087674\n",
      "<s> mike , big board member that china . </s> 4.20591067986\n",
      "<s> mike : a member at china . </s> 4.21041397205\n",
      "<s> mike , who member for china . </s> 4.2123316658\n",
      "<s> mike , who member on china . </s> 4.21460151783\n",
      "<s> mike and the board member is china . </s> 4.21665955003\n",
      "<s> mike , the board member the china . </s> 4.21938563472\n",
      "<s> mike , big board member in china . </s> 4.22130037216\n",
      "<s> mike is n't member the china . </s> 4.22504127631\n",
      "<s> mike , who member from china . </s> 4.22962382144\n",
      "<s> mike , who member at china . </s> 4.23032896693\n",
      "<s> mike its big board member the china . </s> 4.23442492728\n",
      "<s> mike : a member UUUNKKK china . </s> 4.23764267938\n",
      "<s> mike a few member UUUNKKK china . </s> 4.23976273002\n",
      "<s> mike , big board member , china . </s> 4.25470713219\n",
      "<s> mike , big board member by china . </s> 4.26457324428\n",
      "<s> mike , who member UUUNKKK china . </s> 4.26752987016\n",
      "<s> mike , big board member for china . </s> 4.27091046104\n",
      "<s> mike , an member , china . </s> 4.28170780755\n",
      "<s> mike his big board member the china . </s> 4.28668300417\n",
      "<s> mike and the board member UUUNKKK china . </s> 4.30165262126\n",
      "<s> mike , big board member UUUNKKK china . </s> 4.39858535862\n",
      "<s> mike , big board member the china . </s> 4.41579682151\n",
      "<s> mike and the board member the china . </s> 4.46919255252\n"
     ]
    },
    {
     "data": {
      "text/plain": [
       "[([4, 5147, 8, 147, 161, 1123, 6, 665, 2, 5], 2.9136767533560239),\n",
       " ([4, 5147, 3, 8, 1123, 6, 665, 2, 5], 2.9980040639607757),\n",
       " ([4, 5147, 11, 147, 161, 1123, 6, 665, 2, 5], 3.0574642886286671),\n",
       " ([4, 5147, 1, 147, 161, 1123, 6, 665, 2, 5], 3.0599958745276825),\n",
       " ([4, 5147, 36, 147, 161, 1123, 6, 665, 2, 5], 3.0656961567828351),\n",
       " ([4, 5147, 0, 8, 1123, 6, 665, 2, 5], 3.0784982246217529),\n",
       " ([4, 5147, 75, 8, 1123, 6, 665, 2, 5], 3.2882329267546577),\n",
       " ([4, 5147, 40, 31, 1123, 6, 665, 2, 5], 3.3009778276964763),\n",
       " ([4, 5147, 8, 147, 161, 1123, 9, 665, 2, 5], 3.301669489278205),\n",
       " ([4, 5147, 11, 147, 161, 1123, 7, 665, 2, 5], 3.3109269446196641),\n",
       " ([4, 5147, 8, 147, 161, 1123, 7, 665, 2, 5], 3.3302812174818981),\n",
       " ([4, 5147, 11, 147, 161, 1123, 9, 665, 2, 5], 3.3463700696282133),\n",
       " ([4, 5147, 11, 147, 161, 1123, 24, 665, 2, 5], 3.3539572748370263),\n",
       " ([4, 5147, 11, 147, 161, 1123, 13, 665, 2, 5], 3.355320260579771),\n",
       " ([4, 5147, 8, 147, 161, 1123, 24, 665, 2, 5], 3.358631949608319),\n",
       " ([4, 5147, 8, 147, 161, 1123, 13, 665, 2, 5], 3.3588761894695791),\n",
       " ([4, 5147, 1, 147, 161, 1123, 9, 665, 2, 5], 3.3636774083678822),\n",
       " ([4, 5147, 1, 147, 161, 1123, 24, 665, 2, 5], 3.3765225251512745),\n",
       " ([4, 5147, 11, 147, 161, 1123, 12, 665, 2, 5], 3.3774214314035915),\n",
       " ([4, 5147, 0, 36, 1123, 6, 665, 2, 5], 3.3804649470578823),\n",
       " ([4, 5147, 8, 147, 161, 1123, 23, 665, 2, 5], 3.3821279278433245),\n",
       " ([4, 5147, 1, 147, 161, 1123, 7, 665, 2, 5], 3.3847589933217406),\n",
       " ([4, 5147, 32, 147, 161, 1123, 6, 665, 2, 5], 3.3879288790129691),\n",
       " ([4, 5147, 1, 147, 161, 1123, 13, 665, 2, 5], 3.3944234016959562),\n",
       " ([4, 5147, 8, 147, 161, 1123, 21, 665, 2, 5], 3.4001420354288667),\n",
       " ([4, 5147, 11, 94, 1123, 6, 665, 2, 5], 3.4138396795634924),\n",
       " ([4, 5147, 40, 31, 1123, 7, 665, 2, 5], 3.4292461161940708),\n",
       " ([4, 5147, 11, 147, 161, 1123, 23, 665, 2, 5], 3.4360159545594455),\n",
       " ([4, 5147, 63, 147, 161, 1123, 6, 665, 2, 5], 3.4408162691261759),\n",
       " ([4, 5147, 36, 147, 161, 1123, 9, 665, 2, 5], 3.4436800045185931),\n",
       " ([4, 5147, 1, 147, 161, 1123, 12, 665, 2, 5], 3.4587984610581133),\n",
       " ([4, 5147, 36, 147, 161, 1123, 7, 665, 2, 5], 3.4614278621498444),\n",
       " ([4, 5147, 36, 147, 161, 1123, 24, 665, 2, 5], 3.4829833072643011),\n",
       " ([4, 5147, 36, 147, 161, 1123, 13, 665, 2, 5], 3.4907389006874028),\n",
       " ([4, 5147, 62, 147, 161, 1123, 6, 665, 2, 5], 3.5035750598574138),\n",
       " ([4, 5147, 0, 1, 161, 1123, 6, 665, 2, 5], 3.5156802910058502),\n",
       " ([4, 5147, 40, 31, 1123, 24, 665, 2, 5], 3.5199975331313236),\n",
       " ([4, 5147, 8, 295, 1123, 6, 665, 2, 5], 3.5218294648696311),\n",
       " ([4, 5147, 8, 147, 161, 1123, 10, 665, 2, 5], 3.5234433336588054),\n",
       " ([4, 5147, 8, 147, 161, 1123, 0, 665, 2, 5], 3.5475287434819207),\n",
       " ([4, 5147, 1, 147, 161, 1123, 18, 665, 2, 5], 3.5747934874142984),\n",
       " ([4, 5147, 40, 31, 1123, 9, 665, 2, 5], 3.5789170328878583),\n",
       " ([4, 5147, 36, 147, 161, 1123, 23, 665, 2, 5], 3.5849082880434331),\n",
       " ([4, 5147, 1, 147, 161, 1123, 0, 665, 2, 5], 3.5915666053261903),\n",
       " ([4, 5147, 11, 147, 161, 1123, 3, 665, 2, 5], 3.5967840255656198),\n",
       " ([4, 5147, 0, 8, 1123, 13, 665, 2, 5], 3.60444179814212),\n",
       " ([4, 5147, 40, 31, 1123, 13, 665, 2, 5], 3.605234278883882),\n",
       " ([4, 5147, 0, 8, 1123, 9, 665, 2, 5], 3.6083535855614843),\n",
       " ([4, 5147, 40, 31, 1123, 21, 665, 2, 5], 3.6136159579997673),\n",
       " ([4, 5147, 11, 147, 161, 1123, 18, 665, 2, 5], 3.6174834233601856),\n",
       " ([4, 5147, 3, 8, 1123, 9, 665, 2, 5], 3.6183617664117955),\n",
       " ([4, 5147, 3, 8, 1123, 7, 665, 2, 5], 3.6256682925015249),\n",
       " ([4, 5147, 10, 1, 161, 1123, 6, 665, 2, 5], 3.6357890323725948),\n",
       " ([4, 5147, 3, 8, 1123, 13, 665, 2, 5], 3.6604837561268408),\n",
       " ([4, 5147, 1, 147, 161, 1123, 3, 665, 2, 5], 3.6605210389685241),\n",
       " ([4, 5147, 40, 31, 1123, 26, 665, 2, 5], 3.6667779895993124),\n",
       " ([4, 5147, 8, 147, 161, 1123, 3, 665, 2, 5], 3.66964931336038),\n",
       " ([4, 5147, 63, 147, 161, 1123, 7, 665, 2, 5], 3.6721128476501432),\n",
       " ([4, 5147, 32, 147, 161, 1123, 7, 665, 2, 5], 3.6806044935700521),\n",
       " ([4, 5147, 0, 8, 1123, 7, 665, 2, 5], 3.6913682633845255),\n",
       " ([4, 5147, 1, 147, 161, 1123, 30, 665, 2, 5], 3.6930898867714221),\n",
       " ([4, 5147, 40, 31, 1123, 23, 665, 2, 5], 3.7081547363317093),\n",
       " ([4, 5147, 36, 147, 161, 1123, 18, 665, 2, 5], 3.7085337368605025),\n",
       " ([4, 5147, 32, 147, 161, 1123, 24, 665, 2, 5], 3.7146696232088119),\n",
       " ([4, 5147, 32, 147, 161, 1123, 9, 665, 2, 5], 3.715117308388769),\n",
       " ([4, 5147, 40, 31, 1123, 27, 665, 2, 5], 3.7219661998105655),\n",
       " ([4, 5147, 11, 94, 1123, 9, 665, 2, 5], 3.722812311228362),\n",
       " ([4, 5147, 63, 147, 161, 1123, 24, 665, 2, 5], 3.7275446345925518),\n",
       " ([4, 5147, 18, 39, 1123, 7, 665, 2, 5], 3.7293505867307766),\n",
       " ([4, 5147, 36, 147, 161, 1123, 0, 665, 2, 5], 3.735749040311517),\n",
       " ([4, 5147, 32, 147, 161, 1123, 13, 665, 2, 5], 3.7402862502074727),\n",
       " ([4, 5147, 11, 94, 1123, 10, 665, 2, 5], 3.7412266763389561),\n",
       " ([4, 5147, 62, 147, 161, 1123, 7, 665, 2, 5], 3.7414444993441478),\n",
       " ([4, 5147, 11, 94, 1123, 0, 665, 2, 5], 3.7504703378236246),\n",
       " ([4, 5147, 63, 147, 161, 1123, 9, 665, 2, 5], 3.7585154385907651),\n",
       " ([4, 5147, 18, 39, 1123, 6, 665, 2, 5], 3.7650303118108059),\n",
       " ([4, 5147, 0, 8, 1123, 0, 665, 2, 5], 3.7715487611894023),\n",
       " ([4, 5147, 11, 147, 161, 1123, 1, 665, 2, 5], 3.7788369732039748),\n",
       " ([4, 5147, 36, 147, 161, 1123, 3, 665, 2, 5], 3.7801001469802742),\n",
       " ([4, 5147, 63, 147, 161, 1123, 13, 665, 2, 5], 3.7823997975164767),\n",
       " ([4, 5147, 11, 94, 1123, 13, 665, 2, 5], 3.7892998602108272),\n",
       " ([4, 5147, 36, 147, 161, 1123, 30, 665, 2, 5], 3.7953170378227106),\n",
       " ([4, 5147, 0, 8, 1123, 21, 665, 2, 5], 3.7980661371211548),\n",
       " ([4, 5147, 32, 147, 161, 1123, 12, 665, 2, 5], 3.7986071744896206),\n",
       " ([4, 5147, 0, 1, 161, 1123, 7, 665, 2, 5], 3.8035260913520972),\n",
       " ([4, 5147, 32, 147, 161, 1123, 23, 665, 2, 5], 3.8035364845557416),\n",
       " ([4, 5147, 62, 147, 161, 1123, 24, 665, 2, 5], 3.8143578503744422),\n",
       " ([4, 5147, 63, 147, 161, 1123, 12, 665, 2, 5], 3.8159108578477836),\n",
       " ([4, 5147, 62, 147, 161, 1123, 9, 665, 2, 5], 3.8224516047068127),\n",
       " ([4, 5147, 11, 94, 1123, 21, 665, 2, 5], 3.8262674981199751),\n",
       " ([4, 5147, 0, 49, 1123, 6, 665, 2, 5], 3.8265184783254926),\n",
       " ([4, 5147, 3, 8, 1123, 21, 665, 2, 5], 3.8282387837615905),\n",
       " ([4, 5147, 0, 49, 1123, 9, 665, 2, 5], 3.8299013042818393),\n",
       " ([4, 5147, 0, 49, 1123, 12, 665, 2, 5], 3.8308894454694635),\n",
       " ([4, 5147, 63, 147, 161, 1123, 23, 665, 2, 5], 3.8386958968781562),\n",
       " ([4, 5147, 11, 94, 1123, 7, 665, 2, 5], 3.8403196910081192),\n",
       " ([4, 5147, 8, 295, 1123, 9, 665, 2, 5], 3.8438005823704304),\n",
       " ([4, 5147, 62, 147, 161, 1123, 13, 665, 2, 5], 3.8447957685897527),\n",
       " ([4, 5147, 0, 1, 161, 1123, 9, 665, 2, 5], 3.8453052278906541),\n",
       " ([4, 5147, 0, 36, 1123, 9, 665, 2, 5], 3.8466287058209261),\n",
       " ([4, 5147, 18, 39, 1123, 12, 665, 2, 5], 3.8480962098390759),\n",
       " ([4, 5147, 0, 8, 1123, 23, 665, 2, 5], 3.8505535667337818),\n",
       " ([4, 5147, 0, 36, 1123, 23, 665, 2, 5], 3.8584283273765942),\n",
       " ([4, 5147, 18, 39, 1123, 9, 665, 2, 5], 3.8588736290484218),\n",
       " ([4, 5147, 0, 8, 1123, 3, 665, 2, 5], 3.8651989898698051),\n",
       " ([4, 5147, 75, 8, 1123, 13, 665, 2, 5], 3.8658814595272872),\n",
       " ([4, 5147, 3, 8, 1123, 0, 665, 2, 5], 3.8669698918226771),\n",
       " ([4, 5147, 0, 36, 1123, 13, 665, 2, 5], 3.8688025112004953),\n",
       " ([4, 5147, 40, 31, 1123, 25, 665, 2, 5], 3.870102593198828),\n",
       " ([4, 5147, 75, 8, 1123, 9, 665, 2, 5], 3.8711111503589524),\n",
       " ([4, 5147, 0, 36, 1123, 7, 665, 2, 5], 3.876628298796339),\n",
       " ([4, 5147, 8, 295, 1123, 7, 665, 2, 5], 3.8797803088983684),\n",
       " ([4, 5147, 0, 1, 161, 1123, 13, 665, 2, 5], 3.8836965319133276),\n",
       " ([4, 5147, 8, 295, 1123, 21, 665, 2, 5], 3.89766720447945),\n",
       " ([4, 5147, 75, 8, 1123, 7, 665, 2, 5], 3.8979665366044696),\n",
       " ([4, 5147, 62, 147, 161, 1123, 23, 665, 2, 5], 3.8983568726118896),\n",
       " ([4, 5147, 62, 147, 161, 1123, 12, 665, 2, 5], 3.9048043112433093),\n",
       " ([4, 5147, 0, 1, 161, 1123, 12, 665, 2, 5], 3.9098971103659279),\n",
       " ([4, 5147, 63, 147, 161, 1123, 25, 665, 2, 5], 3.9125260325138074),\n",
       " ([4, 5147, 18, 39, 1123, 24, 665, 2, 5], 3.9137285871980265),\n",
       " ([4, 5147, 0, 1, 161, 1123, 24, 665, 2, 5], 3.9188252386079663),\n",
       " ([4, 5147, 18, 39, 1123, 13, 665, 2, 5], 3.9211640633818345),\n",
       " ([4, 5147, 0, 8, 1123, 24, 665, 2, 5], 3.9257641519541968),\n",
       " ([4, 5147, 0, 1, 161, 1123, 23, 665, 2, 5], 3.9279190848603944),\n",
       " ([4, 5147, 32, 147, 161, 1123, 0, 665, 2, 5], 3.9299507230259012),\n",
       " ([4, 5147, 0, 49, 1123, 23, 665, 2, 5], 3.9332396844754851),\n",
       " ([4, 5147, 18, 39, 1123, 26, 665, 2, 5], 3.9337366762412151),\n",
       " ([4, 5147, 0, 8, 1123, 10, 665, 2, 5], 3.9360744580007867),\n",
       " ([4, 5147, 3, 8, 1123, 10, 665, 2, 5], 3.9366993619864963),\n",
       " ([4, 5147, 0, 49, 1123, 7, 665, 2, 5], 3.94321327214442),\n",
       " ([4, 5147, 0, 49, 1123, 13, 665, 2, 5], 3.9496227992077055),\n",
       " ([4, 5147, 0, 36, 1123, 27, 665, 2, 5], 3.9496333697111359),\n",
       " ([4, 5147, 18, 39, 1123, 21, 665, 2, 5], 3.952206813328325),\n",
       " ([4, 5147, 0, 49, 1123, 21, 665, 2, 5], 3.9610626143068566),\n",
       " ([4, 5147, 0, 1, 161, 1123, 18, 665, 2, 5], 3.9624909215416615),\n",
       " ([4, 5147, 8, 295, 1123, 95, 665, 2, 5], 3.964409413973176),\n",
       " ([4, 5147, 3, 8, 1123, 23, 665, 2, 5], 3.966279673575476),\n",
       " ([4, 5147, 63, 147, 161, 1123, 0, 665, 2, 5], 3.9761933053153733),\n",
       " ([4, 5147, 11, 94, 1123, 24, 665, 2, 5], 3.9804842231621032),\n",
       " ([4, 5147, 8, 295, 1123, 13, 665, 2, 5], 3.9812185855624782),\n",
       " ([4, 5147, 10, 1, 161, 1123, 7, 665, 2, 5], 3.9922177119498814),\n",
       " ([4, 5147, 0, 68, 1123, 12, 665, 2, 5], 3.9962696533257676),\n",
       " ([4, 5147, 32, 147, 161, 1123, 3, 665, 2, 5], 4.001056100134309),\n",
       " ([4, 5147, 0, 36, 1123, 24, 665, 2, 5], 4.0138213288462978),\n",
       " ([4, 5147, 10, 1, 161, 1123, 9, 665, 2, 5], 4.0172841973184008),\n",
       " ([4, 5147, 62, 147, 161, 1123, 0, 665, 2, 5], 4.0175183895594353),\n",
       " ([4, 5147, 8, 295, 1123, 10, 665, 2, 5], 4.018129303648668),\n",
       " ([4, 5147, 75, 8, 1123, 21, 665, 2, 5], 4.0192959312728611),\n",
       " ([4, 5147, 8, 295, 1123, 26, 665, 2, 5], 4.0204743651008021),\n",
       " ([4, 5147, 0, 49, 1123, 1, 665, 2, 5], 4.0340141691456157),\n",
       " ([4, 5147, 63, 147, 161, 1123, 3, 665, 2, 5], 4.0363067643844701),\n",
       " ([4, 5147, 0, 36, 1123, 21, 665, 2, 5], 4.0403508193458064),\n",
       " ([4, 5147, 8, 295, 1123, 0, 665, 2, 5], 4.0419855999235024),\n",
       " ([4, 5147, 0, 49, 1123, 3, 665, 2, 5], 4.049241848632855),\n",
       " ([4, 5147, 3, 8, 1123, 24, 665, 2, 5], 4.0513111454114927),\n",
       " ([4, 5147, 0, 49, 1123, 24, 665, 2, 5], 4.0531887350431646),\n",
       " ([4, 5147, 3, 8, 1123, 3, 665, 2, 5], 4.0551156293899417),\n",
       " ([4, 5147, 0, 36, 1123, 3, 665, 2, 5], 4.062994708229005),\n",
       " ([4, 5147, 0, 1, 161, 1123, 3, 665, 2, 5], 4.0676580324212264),\n",
       " ([4, 5147, 11, 94, 1123, 11, 665, 2, 5], 4.0684322279838225),\n",
       " ([4, 5147, 75, 8, 1123, 0, 665, 2, 5], 4.0687567689748132),\n",
       " ([4, 5147, 0, 68, 1123, 9, 665, 2, 5], 4.0689554468662354),\n",
       " ([4, 5147, 10, 1, 161, 1123, 13, 665, 2, 5], 4.0728457997157772),\n",
       " ([4, 5147, 0, 68, 1123, 6, 665, 2, 5], 4.0794824467221993),\n",
       " ([4, 5147, 0, 147, 161, 1123, 6, 665, 2, 5], 4.0818916816599087),\n",
       " ([4, 5147, 10, 1, 161, 1123, 24, 665, 2, 5], 4.0833612249538849),\n",
       " ([4, 5147, 11, 94, 1123, 3, 665, 2, 5], 4.0841316624084092),\n",
       " ([4, 5147, 0, 68, 1123, 7, 665, 2, 5], 4.0914505352405524),\n",
       " ([4, 5147, 0, 147, 161, 1123, 7, 665, 2, 5], 4.0955583218017813),\n",
       " ([4, 5147, 62, 147, 161, 1123, 3, 665, 2, 5], 4.1074948300908805),\n",
       " ([4, 5147, 10, 1, 161, 1123, 21, 665, 2, 5], 4.1109616682838865),\n",
       " ([4, 5147, 10, 1, 161, 1123, 12, 665, 2, 5], 4.1217013788385906),\n",
       " ([4, 5147, 75, 8, 1123, 95, 665, 2, 5], 4.1253219243097883),\n",
       " ([4, 5147, 0, 68, 1123, 1, 665, 2, 5], 4.149565357251511),\n",
       " ([4, 5147, 75, 8, 1123, 26, 665, 2, 5], 4.1691733130322),\n",
       " ([4, 5147, 0, 147, 161, 1123, 23, 665, 2, 5], 4.1912556451564331),\n",
       " ([4, 5147, 18, 39, 1123, 3, 665, 2, 5], 4.2036808767352909),\n",
       " ([4, 5147, 0, 147, 161, 1123, 12, 665, 2, 5], 4.2059106798569879),\n",
       " ([4, 5147, 75, 8, 1123, 23, 665, 2, 5], 4.210413972045191),\n",
       " ([4, 5147, 0, 68, 1123, 13, 665, 2, 5], 4.2123316657974748),\n",
       " ([4, 5147, 0, 68, 1123, 21, 665, 2, 5], 4.214601517829724),\n",
       " ([4, 5147, 10, 1, 161, 1123, 18, 665, 2, 5], 4.2166595500342439),\n",
       " ([4, 5147, 0, 1, 161, 1123, 1, 665, 2, 5], 4.2193856347186172),\n",
       " ([4, 5147, 0, 147, 161, 1123, 9, 665, 2, 5], 4.2213003721639879),\n",
       " ([4, 5147, 18, 39, 1123, 1, 665, 2, 5], 4.225041276314438),\n",
       " ([4, 5147, 0, 68, 1123, 26, 665, 2, 5], 4.2296238214383406),\n",
       " ([4, 5147, 0, 68, 1123, 23, 665, 2, 5], 4.2303289669329196),\n",
       " ([4, 5147, 32, 147, 161, 1123, 1, 665, 2, 5], 4.2344249272784529),\n",
       " ([4, 5147, 75, 8, 1123, 3, 665, 2, 5], 4.2376426793782578),\n",
       " ([4, 5147, 8, 295, 1123, 3, 665, 2, 5], 4.2397627300188896),\n",
       " ([4, 5147, 0, 147, 161, 1123, 0, 665, 2, 5], 4.2547071321887628),\n",
       " ([4, 5147, 0, 147, 161, 1123, 24, 665, 2, 5], 4.264573244276793),\n",
       " ([4, 5147, 0, 68, 1123, 3, 665, 2, 5], 4.2675298701577962),\n",
       " ([4, 5147, 0, 147, 161, 1123, 13, 665, 2, 5], 4.2709104610423623),\n",
       " ([4, 5147, 0, 36, 1123, 0, 665, 2, 5], 4.281707807546077),\n",
       " ([4, 5147, 62, 147, 161, 1123, 1, 665, 2, 5], 4.2866830041684105),\n",
       " ([4, 5147, 10, 1, 161, 1123, 3, 665, 2, 5], 4.3016526212572845),\n",
       " ([4, 5147, 0, 147, 161, 1123, 3, 665, 2, 5], 4.3985853586238566),\n",
       " ([4, 5147, 0, 147, 161, 1123, 1, 665, 2, 5], 4.4157968215132462),\n",
       " ([4, 5147, 10, 1, 161, 1123, 1, 665, 2, 5], 4.4691925525175389)]"
      ]
     },
     "execution_count": 219,
     "metadata": {},
     "output_type": "execute_result"
    }
   ],
   "source": [
    "fill_all_missing(model_2, \"mike\", [\"board member\", \"member\"], \"china\", 2, 1, word_to_num_2, num_to_word_2, None)"
   ]
  },
  {
   "cell_type": "code",
   "execution_count": 158,
   "metadata": {
    "collapsed": false
   },
   "outputs": [
    {
     "name": "stdout",
     "output_type": "stream",
     "text": [
      "Loading paraphrases from ppdb-1.0-s-all\n",
      "6977679 paraphrases added to PPDB\n"
     ]
    }
   ],
   "source": [
    "from freebase_ie import *\n",
    "ppdb = construct_ppdb_from_file(\"ppdb-1.0-s-all\")"
   ]
  },
  {
   "cell_type": "code",
   "execution_count": null,
   "metadata": {
    "collapsed": false
   },
   "outputs": [],
   "source": [
    "tuples =extract_freebase_tuples(query=None, used_ppdb=True, ppdb=ppdb)\n",
    "print_tuples(tuples)"
   ]
  },
  {
   "cell_type": "markdown",
   "metadata": {},
   "source": [
    "## Model 3"
   ]
  },
  {
   "cell_type": "code",
   "execution_count": 221,
   "metadata": {
    "collapsed": false
   },
   "outputs": [],
   "source": [
    "model_3 = BRNNLM(zeros((8000,50)), alpha=0.1)\n",
    "model_3.load_parameters('hdim_50_vdim_8000_alpha_01')\n",
    "num_to_word_3 = dict(enumerate(vocab.index[:8000]))\n",
    "word_to_num_3 = du.invert_dict(num_to_word_3)"
   ]
  },
  {
   "cell_type": "code",
   "execution_count": 223,
   "metadata": {
    "collapsed": false
   },
   "outputs": [],
   "source": [
    "vocab_size = len(set(word_to_numW.keys()).union(set(word_to_num_3.keys())))\n",
    "wv_all_3 = zeros((vocab_size, 50))\n",
    "num_to_word_all_3 = dict()\n",
    "for k, v in num_to_word_3.items():\n",
    "    num_to_word_all_3[k] = v\n",
    "i = len(num_to_word_all_3)\n",
    "words_3 = set(word_to_num_3.keys())\n",
    "for k, v in word_to_numW.items():\n",
    "    if k not in words_3:\n",
    "        wv_all_3[i] = wvW[v]\n",
    "        num_to_word_all_3[i] = k\n",
    "        i += 1\n",
    "word_to_num_all_3 = du.invert_dict(num_to_word_all_3)\n",
    "   "
   ]
  },
  {
   "cell_type": "code",
   "execution_count": 229,
   "metadata": {
    "collapsed": false
   },
   "outputs": [
    {
     "name": "stdout",
     "output_type": "stream",
     "text": [
      "<s> he said the board member of google . </s> 1.89340548848\n",
      "<s> he says the board member of google . </s> 1.91075369679\n",
      "<s> he 's big board member of google . </s> 1.95646407038\n",
      "<s> he said its board member of google . </s> 2.04674302819\n",
      "<s> he UUUNKKK the board member of google . </s> 2.1693525883\n",
      "<s> he says its board member of google . </s> 2.22608473676\n",
      "<s> he said the board member for google . </s> 2.24257550004\n",
      "<s> he says the board member for google . </s> 2.263218429\n",
      "<s> he said the board member and google . </s> 2.26952457958\n",
      "<s> he says the board member and google . </s> 2.2869624332\n",
      "<s> he 's big board member for google . </s> 2.29579814941\n",
      "<s> he 's big board member and google . </s> 2.31138228815\n",
      "<s> he the big board member of google . </s> 2.31750028891\n",
      "<s> he 's the board member of google . </s> 2.33902203321\n",
      "<s> he said the board member UUUNKKK google . </s> 2.34569804215\n",
      "<s> he said its board member for google . </s> 2.35456744709\n",
      "<s> he said the board member on google . </s> 2.35574095304\n",
      "<s> he 's big board member on google . </s> 2.36299046569\n",
      "<s> he says the board member UUUNKKK google . </s> 2.37172774787\n",
      "<s> he 's big board member into google . </s> 2.37573725419\n",
      "<s> he said the board member by google . </s> 2.37706544486\n",
      "<s> he 's big board member UUUNKKK google . </s> 2.38902086013\n",
      "<s> he says the board member on google . </s> 2.39395002222\n",
      "<s> he says the board member by google . </s> 2.39409156609\n",
      "<s> he said the board member in google . </s> 2.39519083009\n",
      "<s> he says his board member of google . </s> 2.40085132234\n",
      "<s> he said its board member and google . </s> 2.40508062744\n",
      "<s> he 's big board member in google . </s> 2.40944666176\n",
      "<s> he said the board member will google . </s> 2.4157790307\n",
      "<s> he 's big board member by google . </s> 2.4162405136\n",
      "<s> he said the board member to google . </s> 2.41838121768\n",
      "<s> he says the board member in google . </s> 2.42143954589\n",
      "<s> he says the board member to google . </s> 2.4335365131\n",
      "<s> he said its board member by google . </s> 2.43478015543\n",
      "<s> he said its board member into google . </s> 2.44846402352\n",
      "<s> he says the board member will google . </s> 2.45077079515\n",
      "<s> he 's big board member to google . </s> 2.45445711475\n",
      "<s> he 's big board member with google . </s> 2.46434754817\n",
      "<s> he and the board member of google . </s> 2.46833272868\n",
      "<s> he said its board member on google . </s> 2.47044256833\n",
      "<s> he said its board member to google . </s> 2.49913111291\n",
      "<s> he said its board member with google . </s> 2.50312616922\n",
      "<s> he said its board member UUUNKKK google . </s> 2.52961871758\n",
      "<s> he says its board member for google . </s> 2.54029439329\n",
      "<s> he said the board member 's google . </s> 2.57115009364\n",
      "<s> he says its board member and google . </s> 2.57539131774\n",
      "<s> he UUUNKKK the board member and google . </s> 2.57857990642\n",
      "<s> he UUUNKKK the board member for google . </s> 2.59359432204\n",
      "<s> he says the board member 's google . </s> 2.60617158494\n",
      "<s> he says its board member by google . </s> 2.61926322052\n",
      "<s> he said its board member will google . </s> 2.63483285109\n",
      "<s> he says its board member into google . </s> 2.64864053858\n",
      "<s> he UUUNKKK the board member UUUNKKK google . </s> 2.65769215565\n",
      "<s> he says its board member on google . </s> 2.67099504166\n",
      "<s> he UUUNKKK the board member on google . </s> 2.67427384086\n",
      "<s> he says his board member for google . </s> 2.67892831891\n",
      "<s> he UUUNKKK the board member in google . </s> 2.67989175296\n",
      "<s> he says its board member with google . </s> 2.68870330778\n",
      "<s> he says its board member to google . </s> 2.69060350742\n",
      "<s> he the big board member for google . </s> 2.69653084657\n",
      "<s> he UUUNKKK the board member to google . </s> 2.69926455635\n",
      "<s> he UUUNKKK the board member with google . </s> 2.71297187631\n",
      "<s> he says its board member UUUNKKK google . </s> 2.72468686481\n",
      "<s> he 's the board member for google . </s> 2.72820478096\n",
      "<s> he the big board member and google . </s> 2.72962921681\n",
      "<s> he says its board member in google . </s> 2.73365372739\n",
      "<s> he says his board member by google . </s> 2.74124697842\n",
      "<s> he 's the board member and google . </s> 2.74794880708\n",
      "<s> he says his board member and google . </s> 2.74980483488\n",
      "<s> he says his board member into google . </s> 2.76438421977\n",
      "<s> he UUUNKKK the board member will google . </s> 2.78605332099\n",
      "<s> he the big board member into google . </s> 2.80194680836\n",
      "<s> he the big board member UUUNKKK google . </s> 2.81778763916\n",
      "<s> he the big board member on google . </s> 2.8202901641\n",
      "<s> he says his board member to google . </s> 2.82566212669\n",
      "<s> he the big board member by google . </s> 2.82917006027\n",
      "<s> he 's the board member in google . </s> 2.8304873729\n",
      "<s> he the big board member in google . </s> 2.8305984526\n",
      "<s> he says his board member UUUNKKK google . </s> 2.8327173338\n",
      "<s> he says his board member on google . </s> 2.83695213806\n",
      "<s> he and the board member for google . </s> 2.8422992093\n",
      "<s> he 's the board member UUUNKKK google . </s> 2.84237894595\n",
      "<s> he 's the board member on google . </s> 2.84933668408\n",
      "<s> he 's the board member to google . </s> 2.8495028474\n",
      "<s> he UUUNKKK the board member 's google . </s> 2.85969917831\n",
      "<s> he the big board member to google . </s> 2.86602501446\n",
      "<s> he and the board member and google . </s> 2.87899572339\n",
      "<s> he and the board member UUUNKKK google . </s> 2.90521703732\n",
      "<s> he the big board member will google . </s> 2.91671785804\n",
      "<s> he 's the board member will google . </s> 2.92328108034\n",
      "<s> he and the board member on google . </s> 2.96415600353\n",
      "<s> he and the board member in google . </s> 2.97381269285\n",
      "<s> he says his board member a google . </s> 2.98011619053\n",
      "<s> he and the board member to google . </s> 2.99402053031\n",
      "<s> he and the board member with google . </s> 2.99738330998\n",
      "<s> he and the board member will google . </s> 3.01102494176\n",
      "<s> he says his board member up google . </s> 3.03101231648\n",
      "<s> he 's the board member 's google . </s> 3.06373497847\n",
      "<s> he 's the board member market google . </s> 3.10287478653\n",
      "<s> he and the board member 's google . </s> 3.15935618235\n"
     ]
    },
    {
     "data": {
      "text/plain": [
       "[([4, 34, 19, 1, 161, 1123, 6, 296616, 2, 5], 1.8934054884805083),\n",
       " ([4, 34, 56, 1, 161, 1123, 6, 296616, 2, 5], 1.9107536967883494),\n",
       " ([4, 34, 11, 147, 161, 1123, 6, 296616, 2, 5], 1.9564640703775436),\n",
       " ([4, 34, 19, 32, 161, 1123, 6, 296616, 2, 5], 2.0467430281942769),\n",
       " ([4, 34, 3, 1, 161, 1123, 6, 296616, 2, 5], 2.1693525883031453),\n",
       " ([4, 34, 56, 32, 161, 1123, 6, 296616, 2, 5], 2.2260847367649372),\n",
       " ([4, 34, 19, 1, 161, 1123, 13, 296616, 2, 5], 2.2425755000355383),\n",
       " ([4, 34, 56, 1, 161, 1123, 13, 296616, 2, 5], 2.2632184290006645),\n",
       " ([4, 34, 19, 1, 161, 1123, 10, 296616, 2, 5], 2.2695245795818182),\n",
       " ([4, 34, 56, 1, 161, 1123, 10, 296616, 2, 5], 2.2869624332029921),\n",
       " ([4, 34, 11, 147, 161, 1123, 13, 296616, 2, 5], 2.2957981494131561),\n",
       " ([4, 34, 11, 147, 161, 1123, 10, 296616, 2, 5], 2.3113822881458099),\n",
       " ([4, 34, 1, 147, 161, 1123, 6, 296616, 2, 5], 2.3175002889128824),\n",
       " ([4, 34, 11, 1, 161, 1123, 6, 296616, 2, 5], 2.3390220332109615),\n",
       " ([4, 34, 19, 1, 161, 1123, 3, 296616, 2, 5], 2.345698042148157),\n",
       " ([4, 34, 19, 32, 161, 1123, 13, 296616, 2, 5], 2.3545674470856861),\n",
       " ([4, 34, 19, 1, 161, 1123, 21, 296616, 2, 5], 2.3557409530373965),\n",
       " ([4, 34, 11, 147, 161, 1123, 21, 296616, 2, 5], 2.3629904656923602),\n",
       " ([4, 34, 56, 1, 161, 1123, 3, 296616, 2, 5], 2.3717277478743855),\n",
       " ([4, 34, 11, 147, 161, 1123, 110, 296616, 2, 5], 2.3757372541876109),\n",
       " ([4, 34, 19, 1, 161, 1123, 24, 296616, 2, 5], 2.377065444864543),\n",
       " ([4, 34, 11, 147, 161, 1123, 3, 296616, 2, 5], 2.3890208601294765),\n",
       " ([4, 34, 56, 1, 161, 1123, 21, 296616, 2, 5], 2.3939500222209213),\n",
       " ([4, 34, 56, 1, 161, 1123, 24, 296616, 2, 5], 2.3940915660918156),\n",
       " ([4, 34, 19, 1, 161, 1123, 9, 296616, 2, 5], 2.3951908300867588),\n",
       " ([4, 34, 56, 62, 161, 1123, 6, 296616, 2, 5], 2.4008513223410572),\n",
       " ([4, 34, 19, 32, 161, 1123, 10, 296616, 2, 5], 2.405080627443692),\n",
       " ([4, 34, 11, 147, 161, 1123, 9, 296616, 2, 5], 2.4094466617591008),\n",
       " ([4, 34, 19, 1, 161, 1123, 40, 296616, 2, 5], 2.4157790306980256),\n",
       " ([4, 34, 11, 147, 161, 1123, 24, 296616, 2, 5], 2.4162405136000311),\n",
       " ([4, 34, 19, 1, 161, 1123, 7, 296616, 2, 5], 2.418381217682362),\n",
       " ([4, 34, 56, 1, 161, 1123, 9, 296616, 2, 5], 2.4214395458929472),\n",
       " ([4, 34, 56, 1, 161, 1123, 7, 296616, 2, 5], 2.4335365131000177),\n",
       " ([4, 34, 19, 32, 161, 1123, 24, 296616, 2, 5], 2.4347801554282609),\n",
       " ([4, 34, 19, 32, 161, 1123, 110, 296616, 2, 5], 2.4484640235219417),\n",
       " ([4, 34, 56, 1, 161, 1123, 40, 296616, 2, 5], 2.4507707951520139),\n",
       " ([4, 34, 11, 147, 161, 1123, 7, 296616, 2, 5], 2.4544571147493999),\n",
       " ([4, 34, 11, 147, 161, 1123, 27, 296616, 2, 5], 2.4643475481732513),\n",
       " ([4, 34, 10, 1, 161, 1123, 6, 296616, 2, 5], 2.4683327286797905),\n",
       " ([4, 34, 19, 32, 161, 1123, 21, 296616, 2, 5], 2.470442568326205),\n",
       " ([4, 34, 19, 32, 161, 1123, 7, 296616, 2, 5], 2.4991311129058209),\n",
       " ([4, 34, 19, 32, 161, 1123, 27, 296616, 2, 5], 2.503126169223477),\n",
       " ([4, 34, 19, 32, 161, 1123, 3, 296616, 2, 5], 2.5296187175810223),\n",
       " ([4, 34, 56, 32, 161, 1123, 13, 296616, 2, 5], 2.5402943932922284),\n",
       " ([4, 34, 19, 1, 161, 1123, 11, 296616, 2, 5], 2.5711500936438703),\n",
       " ([4, 34, 56, 32, 161, 1123, 10, 296616, 2, 5], 2.5753913177392711),\n",
       " ([4, 34, 3, 1, 161, 1123, 10, 296616, 2, 5], 2.5785799064231143),\n",
       " ([4, 34, 3, 1, 161, 1123, 13, 296616, 2, 5], 2.5935943220440514),\n",
       " ([4, 34, 56, 1, 161, 1123, 11, 296616, 2, 5], 2.6061715849414915),\n",
       " ([4, 34, 56, 32, 161, 1123, 24, 296616, 2, 5], 2.6192632205218258),\n",
       " ([4, 34, 19, 32, 161, 1123, 40, 296616, 2, 5], 2.6348328510874723),\n",
       " ([4, 34, 56, 32, 161, 1123, 110, 296616, 2, 5], 2.6486405385809642),\n",
       " ([4, 34, 3, 1, 161, 1123, 3, 296616, 2, 5], 2.6576921556531463),\n",
       " ([4, 34, 56, 32, 161, 1123, 21, 296616, 2, 5], 2.6709950416611083),\n",
       " ([4, 34, 3, 1, 161, 1123, 21, 296616, 2, 5], 2.6742738408615354),\n",
       " ([4, 34, 56, 62, 161, 1123, 13, 296616, 2, 5], 2.678928318912734),\n",
       " ([4, 34, 3, 1, 161, 1123, 9, 296616, 2, 5], 2.6798917529609767),\n",
       " ([4, 34, 56, 32, 161, 1123, 27, 296616, 2, 5], 2.6887033077766325),\n",
       " ([4, 34, 56, 32, 161, 1123, 7, 296616, 2, 5], 2.6906035074232313),\n",
       " ([4, 34, 1, 147, 161, 1123, 13, 296616, 2, 5], 2.6965308465672924),\n",
       " ([4, 34, 3, 1, 161, 1123, 7, 296616, 2, 5], 2.6992645563471482),\n",
       " ([4, 34, 3, 1, 161, 1123, 27, 296616, 2, 5], 2.7129718763139588),\n",
       " ([4, 34, 56, 32, 161, 1123, 3, 296616, 2, 5], 2.7246868648089113),\n",
       " ([4, 34, 11, 1, 161, 1123, 13, 296616, 2, 5], 2.728204780958126),\n",
       " ([4, 34, 1, 147, 161, 1123, 10, 296616, 2, 5], 2.7296292168061895),\n",
       " ([4, 34, 56, 32, 161, 1123, 9, 296616, 2, 5], 2.7336537273940666),\n",
       " ([4, 34, 56, 62, 161, 1123, 24, 296616, 2, 5], 2.7412469784223013),\n",
       " ([4, 34, 11, 1, 161, 1123, 10, 296616, 2, 5], 2.7479488070843257),\n",
       " ([4, 34, 56, 62, 161, 1123, 10, 296616, 2, 5], 2.7498048348824788),\n",
       " ([4, 34, 56, 62, 161, 1123, 110, 296616, 2, 5], 2.7643842197673534),\n",
       " ([4, 34, 3, 1, 161, 1123, 40, 296616, 2, 5], 2.7860533209940366),\n",
       " ([4, 34, 1, 147, 161, 1123, 110, 296616, 2, 5], 2.8019468083645416),\n",
       " ([4, 34, 1, 147, 161, 1123, 3, 296616, 2, 5], 2.8177876391648242),\n",
       " ([4, 34, 1, 147, 161, 1123, 21, 296616, 2, 5], 2.8202901641037217),\n",
       " ([4, 34, 56, 62, 161, 1123, 7, 296616, 2, 5], 2.8256621266926394),\n",
       " ([4, 34, 1, 147, 161, 1123, 24, 296616, 2, 5], 2.8291700602727321),\n",
       " ([4, 34, 11, 1, 161, 1123, 9, 296616, 2, 5], 2.8304873729023039),\n",
       " ([4, 34, 1, 147, 161, 1123, 9, 296616, 2, 5], 2.8305984526029202),\n",
       " ([4, 34, 56, 62, 161, 1123, 3, 296616, 2, 5], 2.832717333799367),\n",
       " ([4, 34, 56, 62, 161, 1123, 21, 296616, 2, 5], 2.8369521380646807),\n",
       " ([4, 34, 10, 1, 161, 1123, 13, 296616, 2, 5], 2.8422992092954713),\n",
       " ([4, 34, 11, 1, 161, 1123, 3, 296616, 2, 5], 2.8423789459461704),\n",
       " ([4, 34, 11, 1, 161, 1123, 21, 296616, 2, 5], 2.849336684081246),\n",
       " ([4, 34, 11, 1, 161, 1123, 7, 296616, 2, 5], 2.8495028473954216),\n",
       " ([4, 34, 3, 1, 161, 1123, 11, 296616, 2, 5], 2.859699178309179),\n",
       " ([4, 34, 1, 147, 161, 1123, 7, 296616, 2, 5], 2.8660250144628772),\n",
       " ([4, 34, 10, 1, 161, 1123, 10, 296616, 2, 5], 2.8789957233884156),\n",
       " ([4, 34, 10, 1, 161, 1123, 3, 296616, 2, 5], 2.905217037321171),\n",
       " ([4, 34, 1, 147, 161, 1123, 40, 296616, 2, 5], 2.9167178580377624),\n",
       " ([4, 34, 11, 1, 161, 1123, 40, 296616, 2, 5], 2.9232810803435059),\n",
       " ([4, 34, 10, 1, 161, 1123, 21, 296616, 2, 5], 2.9641560035347241),\n",
       " ([4, 34, 10, 1, 161, 1123, 9, 296616, 2, 5], 2.9738126928457),\n",
       " ([4, 34, 56, 62, 161, 1123, 8, 296616, 2, 5], 2.9801161905342841),\n",
       " ([4, 34, 10, 1, 161, 1123, 7, 296616, 2, 5], 2.9940205303090321),\n",
       " ([4, 34, 10, 1, 161, 1123, 27, 296616, 2, 5], 2.9973833099822418),\n",
       " ([4, 34, 10, 1, 161, 1123, 40, 296616, 2, 5], 3.0110249417571961),\n",
       " ([4, 34, 56, 62, 161, 1123, 64, 296616, 2, 5], 3.0310123164840479),\n",
       " ([4, 34, 11, 1, 161, 1123, 11, 296616, 2, 5], 3.0637349784657415),\n",
       " ([4, 34, 11, 1, 161, 1123, 55, 296616, 2, 5], 3.1028747865332988),\n",
       " ([4, 34, 10, 1, 161, 1123, 11, 296616, 2, 5], 3.1593561823534069)]"
      ]
     },
     "execution_count": 229,
     "metadata": {},
     "output_type": "execute_result"
    }
   ],
   "source": [
    "fill_all_missing(model_3, \"he\", [\"board member\", \"member\"], \"google\", 2, 1, word_to_num_all_3, num_to_word_all_3, wv_all_3)"
   ]
  },
  {
   "cell_type": "markdown",
   "metadata": {},
   "source": [
    "**BONUS:** Use the unigram distribution given in the `vocab` table to fill in any `UUUNKKK` tokens in your generated sequences with words that we omitted from the vocabulary. You'll want to use `list(vocab.index)` to get a list of words, and `vocab.freq` to get a list of corresponding frequencies."
   ]
  },
  {
   "cell_type": "code",
   "execution_count": null,
   "metadata": {
    "collapsed": false
   },
   "outputs": [],
   "source": [
    "# Replace UUUNKKK with a random unigram,\n",
    "# drawn from vocab that we skipped\n",
    "from nn.math import MultinomialSampler, multinomial_sample\n",
    "def fill_unknowns(words):\n",
    "    #### YOUR CODE HERE ####\n",
    "    print word_to_num['UUUNKKK']\n",
    "    for i in range(len(words)):\n",
    "        if 'UUUNKKK' == words[i]:\n",
    "            idx = multinomial_sample(vocab.freq.values)\n",
    "            words[i] = vocab.index[idx]\n",
    "    #### END YOUR CODE ####\n",
    "    return words\n",
    "    \n",
    "print \" \".join(fill_unknowns(seq_to_words(seq)))\n"
   ]
  },
  {
   "cell_type": "code",
   "execution_count": null,
   "metadata": {
    "collapsed": true
   },
   "outputs": [],
   "source": []
  }
 ],
 "metadata": {
  "kernelspec": {
   "display_name": "Python 2",
   "language": "python",
   "name": "python2"
  },
  "language_info": {
   "codemirror_mode": {
    "name": "ipython",
    "version": 2
   },
   "file_extension": ".py",
   "mimetype": "text/x-python",
   "name": "python",
   "nbconvert_exporter": "python",
   "pygments_lexer": "ipython2",
   "version": "2.7.6"
  }
 },
 "nbformat": 4,
 "nbformat_minor": 0
}
